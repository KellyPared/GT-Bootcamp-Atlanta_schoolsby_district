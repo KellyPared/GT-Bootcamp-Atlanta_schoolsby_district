{
 "cells": [
  {
   "cell_type": "code",
   "execution_count": null,
   "id": "22c201d8",
   "metadata": {},
   "outputs": [],
   "source": [
    "%%capture --no-display\n",
    "# Dependencies and Setup\n",
    "import hvplot.pandas\n",
    "import geopandas as gpd\n",
    "import pandas as pd\n",
    "import requests\n",
    "import fiona\n",
    "import matplotlib.pyplot as plt\n",
    "import numpy as np\n",
    "import requests\n",
    "import seaborn as sns\n",
    "import datetime as datetime\n",
    "import time\n",
    "from scipy.stats import linregress\n",
    "\n",
    "# Impor the OpenWeatherMap API key\n",
    "#from api_keys import weather_api_key\n",
    "\n"
   ]
  },
  {
   "cell_type": "code",
   "execution_count": null,
   "id": "1a676e49",
   "metadata": {},
   "outputs": [],
   "source": [
    "# get an api to pull up schools in district; look at an api that can call all schools in USA\n",
    "school_url = ''\n",
    "\n",
    "#look at other apis to find information(parameters) within a specific zipocde\n",
    "#crime_url = ''\n",
    "\n",
    "#get an api for the zipcodes;#look at an api that can call all zipcodes in USA\n",
    "zipcode_url = ''\n",
    "\n",
    "#check out the parameters in the api\n",
    "\n",
    "#write a code that will pull <<num>> zipcodes in a <<radius>>\n",
    "# Create an empty list for holding the zipcodes.\n",
    "zipcodes_list = []\n",
    "\n",
    "# Create an empty list for holding the schools.\n",
    "schools_in_area = []\n",
    "\n",
    "# Create an empty list for holding parameters\n",
    "\n",
    "\n",
    "# set a variable to count schools and zipcode\n",
    "schools_count = 0\n",
    "zipcodes = 0\n",
    "\n",
    "#Loop through zipcodes to pull records for schools.\n",
    "# Run an API request for each of the cities\n",
    "    try:\n",
    "        # Parse the JSON and retrieve data\n",
    "        response = requests.get(school_url).json()\n",
    "        #response = requests.get(zipcodes_url).json()\n",
    "        #school api parameters\n",
    "        para1 = response['???']\n",
    "        \n",
    "        schools_in_area.append({})\n",
    "        #zipcodes_list.append({})\n",
    "        \n",
    "        \n",
    "    except:\n",
    "        pass\n",
    "\n",
    "\n"
   ]
  },
  {
   "cell_type": "code",
   "execution_count": null,
   "id": "865d2a1a",
   "metadata": {},
   "outputs": [],
   "source": [
    "# Create a DataFrame for zipcodes\n",
    "\n",
    "zipcodes_df = pd.DataFrame.from_dict(zipcodes)\n",
    "schools_df = pd.DataFrame.from_dict(schools_in_area)\n"
   ]
  },
  {
   "cell_type": "code",
   "execution_count": null,
   "id": "288594b5",
   "metadata": {},
   "outputs": [],
   "source": [
    "# Export the City_Data into a csv\n",
    "schools_df.to_csv(\"output_data/schools.csv\", #index_label=\"zipcode\")\n",
    "zipcodes_df.to_csv(\"output_data/zipcodes.csv\", #index_label=\"zipcode\")\n",
    "                   \n",
    "                   \n",
    "                   \n"
   ]
  }
 ],
 "metadata": {
  "kernelspec": {
   "display_name": "PythonData",
   "language": "python",
   "name": "pythondata"
  },
  "language_info": {
   "codemirror_mode": {
    "name": "ipython",
    "version": 3
   },
   "file_extension": ".py",
   "mimetype": "text/x-python",
   "name": "python",
   "nbconvert_exporter": "python",
   "pygments_lexer": "ipython3",
   "version": "3.9.12"
  }
 },
 "nbformat": 4,
 "nbformat_minor": 5
}
